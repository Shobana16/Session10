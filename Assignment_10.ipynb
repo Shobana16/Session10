{
 "cells": [
  {
   "cell_type": "markdown",
   "metadata": {},
   "source": [
    "Task 1:"
   ]
  },
  {
   "cell_type": "markdown",
   "metadata": {},
   "source": [
    "1. Blood glucose levels for obese patients have a mean of 100 with a standard deviation of 15. A\n",
    "researcher thinks that a diet high in raw cornstarch will have a positive effect on blood glucose\n",
    "levels. A sample of 36 patients who have tried the raw cornstarch diet have a mean glucose\n",
    "level of 108. Test the hypothesis that the raw cornstarch had an effect or not.\n"
   ]
  },
  {
   "cell_type": "code",
   "execution_count": 8,
   "metadata": {},
   "outputs": [],
   "source": [
    "import math\n",
    "\n",
    "#Population Mean(μ)\n",
    "population_mean = 100\n",
    "\n",
    "#Population standard deviation(σ)\n",
    "population_stdev = 15\n",
    "\n",
    "#Sample mean(x)\n",
    "sample_mean = 108\n",
    "\n",
    "# Sample Size(n)\n",
    "sample_size=36"
   ]
  },
  {
   "cell_type": "raw",
   "metadata": {},
   "source": [
    "Step 1: \n",
    "\n",
    "Null Hypothesis is H0:μ <= 100 \n",
    "i.e diet high in raw corn starch will not have a  positive effect on blood glucose\n",
    "\n",
    "Alternate Hypothesis is H1:μ > 100 \n",
    "i.e diet high in raw corn starch will have a positive effect on blood glucose"
   ]
  },
  {
   "cell_type": "raw",
   "metadata": {},
   "source": [
    "Step 2:\n",
    "\n",
    "Set up the significance level. It is not given in the problem we can assume it as 5% (0.05).\n",
    "\n",
    "Level of Significance = .05\n"
   ]
  },
  {
   "cell_type": "raw",
   "metadata": {},
   "source": [
    "Step 3: Calculate Z Score"
   ]
  },
  {
   "cell_type": "code",
   "execution_count": 9,
   "metadata": {},
   "outputs": [
    {
     "name": "stdout",
     "output_type": "stream",
     "text": [
      "Z score:  3.2\n"
     ]
    }
   ],
   "source": [
    "z = (sample_mean - population_mean)/(population_stdev/math.sqrt(sample_size))\n",
    "\n",
    "print(\"Z score: \", z)"
   ]
  },
  {
   "cell_type": "raw",
   "metadata": {},
   "source": [
    "by looking at z- table and p-value associated with 3.20 is 0.9993 \n",
    "\n",
    "The probability of having value less than 108 is 0.9993(99.93%) and more than or equals\n",
    "to 108 is (1-0.9993)=0.0007 which is .07%"
   ]
  },
  {
   "cell_type": "raw",
   "metadata": {},
   "source": [
    "Step 4: The probability of having mean glucose level more than or equals to 108  is 0.0007 \n",
    "which is  less than 0.05.\n",
    "\n",
    "So null hypothesis will be rejected and alternative hypothesis is accepted. \n",
    "i.e diet high in raw cornstarch will have a positive effect on blood glucose\n"
   ]
  },
  {
   "cell_type": "markdown",
   "metadata": {},
   "source": [
    "2. In one state, 52% of the voters are Republicans, and 48% are Democrats. In a second state,\n",
    "47% of the voters are Republicans, and 53% are Democrats. Suppose a simple random sample\n",
    "of 100 voters are surveyed from each state.\n",
    "What is the probability that the survey will show a greater percentage of Republican voters in\n",
    "the second state than in the first state?\n"
   ]
  },
  {
   "cell_type": "raw",
   "metadata": {},
   "source": [
    "P1= proportion of republic voters in the state-1\n",
    "\n",
    "P2= proportion of republic voters in the state-2\n",
    "\n",
    "p1= Sample proportion of republic voters in the state-1\n",
    "\n",
    "p2= Sample proportion of republic voters in the state-2\n"
   ]
  },
  {
   "cell_type": "code",
   "execution_count": 11,
   "metadata": {},
   "outputs": [
    {
     "name": "stdout",
     "output_type": "stream",
     "text": [
      "Mean(μ) :  0.050000000000000044 Standard deviation(σ) :  0.07061869440877536\n",
      "Z_score(p1,p2) :  -0.7080278164104213\n"
     ]
    }
   ],
   "source": [
    "P1= .52\n",
    "P2= .47\n",
    "Q1= .48\n",
    "Q2= .53\n",
    "n1=100\n",
    "n2=100\n",
    "\n",
    "# Step-1 Calculate the difference of the mean in sample proportions .i.e Expected Value E[p1 -p2] = P1 - P2 = μ\n",
    "# μ =  E[P1 - P2]\n",
    "μ =  P1-P2\n",
    "\n",
    "# Step-2 Calculate the difference of the standard deviation  (σ)\n",
    "σ = math.sqrt(((P1 * Q1 ) / n1) + ((P2 * Q2) /n2))\n",
    "print(\"Mean(μ) : \",μ,\"Standard deviation(σ) : \",σ)\n",
    "\n",
    "#This problem requires us to find the probability that p1 is less than p2. \n",
    "#This is equivalent to finding the probability that p1 - p2 < 0. \n",
    "x = 0\n",
    "\n",
    "#To find this probability, we need to transform the random variable (p1 - p2) into a z-score. \n",
    "#That transformation appears below.\n",
    "Z_diff = ( x - μ)/σ\n",
    "\n",
    "print(\"Z_score(p1,p2) : \",Z_diff)\n",
    "\n",
    "\n",
    "#From Z table we find that the probability of a z-score being -0.7082 or less is 0.28.\n",
    "\n",
    "#So, the probability that the survey will show a greater percentage of Republican voters \n",
    "#in the second state than in the first state is 0.28.\n",
    "\n"
   ]
  },
  {
   "cell_type": "markdown",
   "metadata": {},
   "source": [
    "3. You take the SAT and score 1100. The mean score for the SAT is 1026 and the standard\n",
    "deviation is 209. How well did you score on the test compared to the average test taker?\n"
   ]
  },
  {
   "cell_type": "code",
   "execution_count": 13,
   "metadata": {},
   "outputs": [
    {
     "name": "stdout",
     "output_type": "stream",
     "text": [
      "Z Score :  0.35406698564593303\n",
      "I have scored marks more than 63% of test takers\n"
     ]
    }
   ],
   "source": [
    "#The z score tells you how many standard deviations from the mean your score is\n",
    "x = 1100 # Variable\n",
    "μ = 1026 # Population Mean\n",
    "σ = 209 #population standard deviation\n",
    "z = ( x - μ)/σ\n",
    "print(\"Z Score : \",z)\n",
    "# Look up your z-value in the z-table to see what percentage of test-takers scored below you.\n",
    "# Z Score :  0.35406698564593303\n",
    "# A z-score of .354 is .1368 + .5000* = .6368 or 63.68%.\n",
    "print(\"I have scored marks more than 63% of test takers\")\n"
   ]
  },
  {
   "cell_type": "markdown",
   "metadata": {},
   "source": [
    "Task 2:"
   ]
  },
  {
   "cell_type": "markdown",
   "metadata": {},
   "source": [
    "1. Is gender independent of education level? A random sample of 395 people were surveyed\n",
    "and each person was asked to report the highest education level they obtained. The data that\n",
    "resulted from the survey is summarized in the following table:\n",
    "High School Bachelors Masters Ph.d. Total\n",
    "Female 60 54 46 41 201\n",
    "Male 40 44 53 57 194\n",
    "Total 100 98 99 98 395\n",
    "Question: Are gender and education level dependent at 5% level of significance? In other\n",
    "words, given the data collected above, is there a relationship between the gender of an\n",
    "individual and the level of education that they have obtained?\n"
   ]
  },
  {
   "cell_type": "raw",
   "metadata": {},
   "source": [
    "Step1: State Null and Alternate Hypothesis\n",
    "    \n",
    "    H0 = education level does not have dependency on gender at a 5% level of significance\n",
    "    H1 = education level have dependency on gender at a 5% level of significance\n",
    "    \n",
    "Step2: Choose the Level of Significance\n",
    "    \n",
    "    level of significance = 5%\n",
    "    \n",
    "Step 3: Find critical Values \n",
    "    \n",
    "    Degree of Freedom = Number of columns -1 = 3        \n",
    "    Referred the Chi Square Table    \n",
    "    Critical Value = 7.81\n",
    "        \n",
    "Step4: Calculate the Chi Square Value for the given data using the below formula\n",
    "      \n",
    "    ChiSquare Value = SUM((O-E)^2 / E)\n",
    "                    = 8.006\n",
    "# Note: Please refer the enclosed excel sheet for the chisquare value calculation \n",
    "Step-5: Conclusion\n",
    "    \n",
    "    Since the Chi Square value is greater than the critical Value\n",
    "    we can reject the Null Hypothesis and ccept alternative hypothesis and conclude that the \n",
    "    education level depends on gender at a 5% level of significance. "
   ]
  },
  {
   "cell_type": "markdown",
   "metadata": {},
   "source": [
    "2. Using the following data, perform a oneway analysis of variance using α=.05. Write up the\n",
    "results in APA format.\n",
    "\n",
    "[Group1: 51, 45, 33, 45, 67]\n",
    "\n",
    "[Group2: 23, 43, 23, 43, 45]\n",
    "\n",
    "[Group3: 56, 76, 74, 87, 56]\n",
    "\n"
   ]
  },
  {
   "cell_type": "code",
   "execution_count": 16,
   "metadata": {},
   "outputs": [
    {
     "name": "stdout",
     "output_type": "stream",
     "text": [
      "Group Mean Values\n",
      "[48.2, 35.4, 69.8]\n",
      "Group Variance Values\n",
      "[153.2, 128.79999999999998, 183.2]\n",
      "***************\n",
      "SS(group)  3022.93\n",
      "df(group) is  2.00\n",
      "MS(group) is  1511.47\n",
      "Fratio  9.75\n",
      "***************\n",
      "SSerror is  1860.80\n",
      "dferror is  12.00\n",
      "MSerror is  155.07\n",
      "***************\n",
      "SS_Total 4883.73\n",
      "Effect Sze 0.62\n",
      "***************\n",
      "APA Format\n",
      "F(2, 12)= 9.75  p <0.05, η2= 0.62\n"
     ]
    }
   ],
   "source": [
    "# importing Statistics module \n",
    "import statistics as stats\n",
    "\n",
    "# Step-1 Calculate the individual Group Mean Value\n",
    "Group1=[51, 45, 33, 45, 67]\n",
    "Group2=[23, 43, 23, 43, 45]\n",
    "Group3=[56, 76, 74, 87, 56]\n",
    "import math\n",
    "\n",
    "group_mean=list(range(3))\n",
    "\n",
    "group_mean[0]=stats.mean(Group1)\n",
    "group_mean[1]=stats.mean(Group2)\n",
    "group_mean[2]=stats.mean(Group3)\n",
    "print(\"Group Mean Values\")\n",
    "print(group_mean)\n",
    "\n",
    "# Step-2 Calculating individual group variances\n",
    "group_var=list(range(3))\n",
    "\n",
    "group_var[0]=stats.variance(Group1)\n",
    "group_var[1]=stats.variance(Group2)\n",
    "group_var[2]=stats.variance(Group3)\n",
    "\n",
    "print(\"Group Variance Values\")\n",
    "print(group_var)\n",
    "print(\"***************\")\n",
    "# -------------------------------\n",
    "# Calculating the mean square error (or within):\n",
    "\n",
    "mserror = sum(group_var)/len(group_var)\n",
    "# Note: mserror is just the average within-group variance;\n",
    "\n",
    "# dferror = Number of observations-number of columns\n",
    "dferror = 15-3\n",
    "# Calculating the within error\n",
    "sserror = mserror*dferror\n",
    "\n",
    "# --------------------------------\n",
    "\n",
    "# Calculating the mean square columns (or between):\n",
    "Grand_mean = stats.mean(group_mean)\n",
    "SSbetween = stats.variance(group_mean)\n",
    "# dfbetween = Number of observation-1\n",
    "dfbetween = 5\n",
    "MSbetween = SSbetween*dfbetween\n",
    "\n",
    "# dfgroup = Total number of observations -1\n",
    "dfgroup = 2\n",
    "\n",
    "# Calculating the mean square for total (Total):\n",
    "\n",
    "SSgroup = MSbetween * dfgroup\n",
    "Fratio = MSbetween/mserror\n",
    "SSTotal = SSgroup+sserror\n",
    "\n",
    "# Calculating the Effect Size\n",
    "η2 = SSgroup/SSTotal\n",
    "\n",
    "print(\"SS(group)  %.2f\"%(SSgroup))\n",
    "print(\"df(group) is  %.2f\"%(dfgroup))\n",
    "print(\"MS(group) is  %.2f\"%(MSbetween))\n",
    "print(\"Fratio  %.2f\"%(Fratio))\n",
    "print(\"***************\")\n",
    "\n",
    "print(\"SSerror is  %.2f\"%(sserror))\n",
    "print(\"dferror is  %.2f\"%(dferror))\n",
    "print(\"MSerror is  %.2f\"%(mserror))\n",
    "print(\"***************\")\n",
    "\n",
    "print(\"SS_Total %.2f\"%(SSTotal))\n",
    "print(\"Effect Sze %.2f\"%(η2))\n",
    "print(\"***************\")\n",
    "print(\"APA Format\")\n",
    "print(\"F(2, 12)= %.2f  p <0.05, η2= %.2f\"%(Fratio,η2))\n"
   ]
  },
  {
   "cell_type": "markdown",
   "metadata": {},
   "source": [
    "3. Calculate F Test for given 10, 20, 30, 40, 50 and 5,10,15, 20, 25.\n",
    "\n",
    "For 10, 20, 30, 40, 50:\n"
   ]
  },
  {
   "cell_type": "code",
   "execution_count": 1,
   "metadata": {},
   "outputs": [
    {
     "name": "stdout",
     "output_type": "stream",
     "text": [
      "250 62.5\n",
      "F ratio:  4.0\n"
     ]
    }
   ],
   "source": [
    "import statistics as stats\n",
    "\n",
    "data1 = [10, 20, 30, 40, 50]\n",
    "data2 = [5, 10, 15, 20, 25]\n",
    "\n",
    "var1 = stats.variance(data1)\n",
    "var2 = stats.variance(data2)\n",
    "\n",
    "print(var1, var2)\n",
    "F = var1/var2\n",
    "\n",
    "print(\"F ratio: \", F)"
   ]
  }
 ],
 "metadata": {
  "kernelspec": {
   "display_name": "Python 3",
   "language": "python",
   "name": "python3"
  },
  "language_info": {
   "codemirror_mode": {
    "name": "ipython",
    "version": 3
   },
   "file_extension": ".py",
   "mimetype": "text/x-python",
   "name": "python",
   "nbconvert_exporter": "python",
   "pygments_lexer": "ipython3",
   "version": "3.6.5"
  }
 },
 "nbformat": 4,
 "nbformat_minor": 2
}
